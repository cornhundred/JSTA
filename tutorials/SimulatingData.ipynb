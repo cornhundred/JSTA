{
 "cells": [
  {
   "cell_type": "code",
   "execution_count": null,
   "metadata": {
    "ExecuteTime": {
     "end_time": "2020-09-17T05:19:59.688662Z",
     "start_time": "2020-09-17T05:19:59.685579Z"
    }
   },
   "outputs": [],
   "source": [
    "#Set number of threads to use\n",
    "import os\n",
    "nthreads = 4\n",
    "os.environ[\"MKL_NUM_THREADS\"] = str(nthreads)\n",
    "os.environ[\"NUMEXPR_NUM_THREADS\"] = str(nthreads)\n",
    "os.environ[\"OMP_NUM_THREADS\"] = str(nthreads)"
   ]
  },
  {
   "cell_type": "code",
   "execution_count": 3,
   "metadata": {
    "ExecuteTime": {
     "end_time": "2020-09-17T16:16:42.832830Z",
     "start_time": "2020-09-17T16:16:42.830678Z"
    }
   },
   "outputs": [],
   "source": [
    "import sys"
   ]
  },
  {
   "cell_type": "code",
   "execution_count": 4,
   "metadata": {
    "ExecuteTime": {
     "end_time": "2020-09-17T16:16:43.036953Z",
     "start_time": "2020-09-17T16:16:43.034448Z"
    }
   },
   "outputs": [],
   "source": [
    "sys.path.insert(1,'../CoreFunctions/')"
   ]
  },
  {
   "cell_type": "code",
   "execution_count": 5,
   "metadata": {
    "ExecuteTime": {
     "end_time": "2020-09-17T16:16:44.291415Z",
     "start_time": "2020-09-17T16:16:43.444433Z"
    }
   },
   "outputs": [],
   "source": [
    "from MerfishSimulator import *\n",
    "from MerfishSimulator import merfish_data_generator as mdg"
   ]
  },
  {
   "cell_type": "markdown",
   "metadata": {},
   "source": [
    "# Load Reference\n",
    "Load in the hippocampus cells (29224) from the Allen Mouse Brain Atlas. We subset this matrix to the marker genes (83) we had for our MERFISH dataset, but this can be performed with any number of genes. We also shrank the values for simulation purposes by taking the square root of the counts and rounding the values."
   ]
  },
  {
   "cell_type": "code",
   "execution_count": 6,
   "metadata": {
    "ExecuteTime": {
     "end_time": "2020-09-17T16:16:47.251483Z",
     "start_time": "2020-09-17T16:16:47.130825Z"
    }
   },
   "outputs": [],
   "source": [
    "sc_ref = pd.read_csv('../ref_data/sc_ref.csv.gz',\n",
    "                    index_col=0)"
   ]
  },
  {
   "cell_type": "code",
   "execution_count": 7,
   "metadata": {
    "ExecuteTime": {
     "end_time": "2020-09-17T16:16:48.568742Z",
     "start_time": "2020-09-17T16:16:48.564572Z"
    }
   },
   "outputs": [
    {
     "data": {
      "text/plain": [
       "(29224, 83)"
      ]
     },
     "execution_count": 7,
     "metadata": {},
     "output_type": "execute_result"
    }
   ],
   "source": [
    "sc_ref.shape"
   ]
  },
  {
   "cell_type": "markdown",
   "metadata": {},
   "source": [
    "# Read in Celltypes"
   ]
  },
  {
   "cell_type": "code",
   "execution_count": 8,
   "metadata": {
    "ExecuteTime": {
     "end_time": "2020-09-17T16:16:50.626319Z",
     "start_time": "2020-09-17T16:16:50.612554Z"
    }
   },
   "outputs": [],
   "source": [
    "celltypes = pd.read_csv('../ref_data/celltypes.txt.gz',\n",
    "                       header = None).to_numpy().ravel()"
   ]
  },
  {
   "cell_type": "code",
   "execution_count": 9,
   "metadata": {
    "ExecuteTime": {
     "end_time": "2020-09-17T16:16:51.742896Z",
     "start_time": "2020-09-17T16:16:51.739868Z"
    }
   },
   "outputs": [
    {
     "data": {
      "text/plain": [
       "array(['Pvalb_8', 'Vip_9', 'Lamp5_5', ..., 'Vip_10', 'Sst_27',\n",
       "       'Lamp5 Lhx6_1'], dtype=object)"
      ]
     },
     "execution_count": 9,
     "metadata": {},
     "output_type": "execute_result"
    }
   ],
   "source": [
    "celltypes"
   ]
  },
  {
   "cell_type": "markdown",
   "metadata": {},
   "source": [
    "# Set Parameters: (assume all distance values are in microns)\n",
    "low_cell: smallest radius of a cell  \n",
    "  \n",
    "high_cell: largest radius of a cell  \n",
    "  \n",
    "dst_btw_cell: How much to increase/decrease the distance between cells. Negative numbers increases cell density. Positive numbers decreases cell density.  \n",
    "  \n",
    "unif_const: Changes the cell type distribution from that of the single cell data to uniform. Smaller numbers close to 0 give the true distribution. Larger numbers > 10 are uniform.\n",
    "  \n",
    "grid_size: size of the x,y,z map to simulate cells in.\n",
    "  \n",
    "noise_in_dist: adds uneveness to the radius of a cell. Creates rough edges.\n",
    "  \n",
    "pixels_per_micron: Resolution of the sample. Larger numbers increases resolution, smaller decreases resolution. \n",
    "  \n",
    "n_iter_merg: Number of iterations to merge neighboring cells  \n",
    "  \n",
    "pix_per_nuc: Number of pixels in each nucleus. Numbers too large throw an error  \n",
    "  \n",
    "dge_scaling_factor: Increase or shrink the values in the DGE  \n",
    "  \n",
    "dist_from_nuc_scale: Uniformity of the mRNA spot placement. Small numbers increases uniformity, larger numbers localizes mRNA around the nucleus of a cell"
   ]
  },
  {
   "cell_type": "code",
   "execution_count": null,
   "metadata": {
    "ExecuteTime": {
     "end_time": "2020-09-17T05:20:43.208062Z",
     "start_time": "2020-09-17T05:20:43.204515Z"
    }
   },
   "outputs": [],
   "source": [
    "low_cell = 7\n",
    "high_cell = 9\n",
    "dst_btw_cell = -2\n",
    "unif_const = 10\n",
    "grid_size = (50,50,20)\n",
    "noise_in_dist = 1\n",
    "pixels_per_micron = 2\n",
    "n_iter_merge = 1\n",
    "pix_per_nuc = 20\n",
    "dge_scaling_factor = 2.5e-1\n",
    "dist_from_nuc_scale = 0.1"
   ]
  },
  {
   "cell_type": "markdown",
   "metadata": {},
   "source": [
    "# Initialize the object and the cell map\n",
    "Cell map saved in self.true_map"
   ]
  },
  {
   "cell_type": "code",
   "execution_count": null,
   "metadata": {
    "ExecuteTime": {
     "end_time": "2020-09-17T05:20:44.246109Z",
     "start_time": "2020-09-17T05:20:44.229098Z"
    }
   },
   "outputs": [],
   "source": [
    "sim = mdg(dist_between_cell_centers = [low_cell,high_cell],\n",
    "          distance_between_cells=dst_btw_cell,\n",
    "          celltypes=np.unique(celltypes),\n",
    "          grid_shape=grid_size)"
   ]
  },
  {
   "cell_type": "code",
   "execution_count": null,
   "metadata": {
    "ExecuteTime": {
     "end_time": "2020-09-17T05:20:49.785600Z",
     "start_time": "2020-09-17T05:20:44.740552Z"
    }
   },
   "outputs": [],
   "source": [
    "#adds pixels to cells based on voronoi in the distance transform\n",
    "sim.assign_pixels_to_cells(noise_in_dist = noise_in_dist, pixels_per_micron = pixels_per_micron)\n",
    "#merges cells \n",
    "sim.merge_cells(n_iter = n_iter_merge)"
   ]
  },
  {
   "cell_type": "markdown",
   "metadata": {},
   "source": [
    "# Plot the cell map"
   ]
  },
  {
   "cell_type": "code",
   "execution_count": null,
   "metadata": {
    "ExecuteTime": {
     "end_time": "2020-09-17T05:20:49.927160Z",
     "start_time": "2020-09-17T05:20:49.797589Z"
    }
   },
   "outputs": [],
   "source": [
    "sim.plot_true()"
   ]
  },
  {
   "cell_type": "markdown",
   "metadata": {},
   "source": [
    "# Compute the covariance structure of the scRNAseq reference\n"
   ]
  },
  {
   "cell_type": "code",
   "execution_count": null,
   "metadata": {
    "ExecuteTime": {
     "end_time": "2020-09-17T05:20:50.348632Z",
     "start_time": "2020-09-17T05:20:49.938585Z"
    }
   },
   "outputs": [],
   "source": [
    "sim.compute_covariance(sc_ref, celltypes)"
   ]
  },
  {
   "cell_type": "markdown",
   "metadata": {},
   "source": [
    "# Compute celltype proportions"
   ]
  },
  {
   "cell_type": "code",
   "execution_count": null,
   "metadata": {
    "ExecuteTime": {
     "end_time": "2020-09-17T05:20:50.361607Z",
     "start_time": "2020-09-17T05:20:50.359755Z"
    }
   },
   "outputs": [],
   "source": [
    "sim.celltype_props = sim.celltype_props + np.ones_like(sim.celltype_props) * unif_const\n",
    "sim.celltype_props /= np.sum(sim.celltype_props)"
   ]
  },
  {
   "cell_type": "markdown",
   "metadata": {},
   "source": [
    "# Assign celltypes\n",
    "Celltypes stored in self.classified+celltypes"
   ]
  },
  {
   "cell_type": "code",
   "execution_count": null,
   "metadata": {
    "ExecuteTime": {
     "end_time": "2020-09-17T05:20:50.379092Z",
     "start_time": "2020-09-17T05:20:50.377362Z"
    }
   },
   "outputs": [],
   "source": [
    "sim.classify_celltypes(ct_list=celltypes)"
   ]
  },
  {
   "cell_type": "markdown",
   "metadata": {},
   "source": [
    "# Generate nuclei in cells\n",
    "Map of nuclei stored in self.nuclei"
   ]
  },
  {
   "cell_type": "code",
   "execution_count": null,
   "metadata": {
    "ExecuteTime": {
     "end_time": "2020-09-17T05:20:51.555343Z",
     "start_time": "2020-09-17T05:20:50.390195Z"
    }
   },
   "outputs": [],
   "source": [
    "sim.generate_nuclei_centers(n_pix_per_nuc=pix_per_nuc)"
   ]
  },
  {
   "cell_type": "markdown",
   "metadata": {},
   "source": [
    "# Generate sample digital gene expression matrix\n",
    "DGE stored in self.merfish_dge"
   ]
  },
  {
   "cell_type": "code",
   "execution_count": null,
   "metadata": {
    "ExecuteTime": {
     "end_time": "2020-09-17T05:20:51.769538Z",
     "start_time": "2020-09-17T05:20:51.566853Z"
    }
   },
   "outputs": [],
   "source": [
    "sim.generate_merfish_dge(dge_scaling_factor = dge_scaling_factor)"
   ]
  },
  {
   "cell_type": "markdown",
   "metadata": {},
   "source": [
    "# Place mRNA spots in the cells"
   ]
  },
  {
   "cell_type": "code",
   "execution_count": null,
   "metadata": {
    "ExecuteTime": {
     "end_time": "2020-09-17T05:20:52.597623Z",
     "start_time": "2020-09-17T05:20:51.781360Z"
    }
   },
   "outputs": [],
   "source": [
    "sim.place_transcripts(dist_from_nuc_scale=dist_from_nuc_scale)"
   ]
  },
  {
   "cell_type": "markdown",
   "metadata": {},
   "source": [
    "# Place a random transcript at each corner.\n",
    "This is not neccesary, however later on if you would like to evaluate accuracy of the segmentation map against the true map this is very useful to keep the two aligned."
   ]
  },
  {
   "cell_type": "code",
   "execution_count": null,
   "metadata": {
    "ExecuteTime": {
     "end_time": "2020-09-17T05:20:52.677649Z",
     "start_time": "2020-09-17T05:20:52.609322Z"
    }
   },
   "outputs": [],
   "source": [
    "sim.place_transcripts_at_corners()"
   ]
  },
  {
   "cell_type": "markdown",
   "metadata": {},
   "source": [
    "# Save example"
   ]
  },
  {
   "cell_type": "code",
   "execution_count": null,
   "metadata": {},
   "outputs": [],
   "source": [
    "with open('../simulated_example/spots.npy','wb') as f:\n",
    "    np.save(f,sim.spots,allow_pickle=True)\n",
    "with open('../simulated_example/nuclei.npy','wb') as f:\n",
    "    np.save(f,sim.nuc_df,allow_pickle=True)\n",
    "with open('../simulated_example/true_map.npy','wb') as f:\n",
    "    np.save(f,sim.true_map,allow_pickle=True)\n",
    "with open('../simulated_example/celltypes.npy','wb') as f:\n",
    "    np.save(f,sim.classified_celltypes,allow_pickle=True)"
   ]
  },
  {
   "cell_type": "code",
   "execution_count": null,
   "metadata": {
    "ExecuteTime": {
     "end_time": "2020-09-17T05:22:34.988799Z",
     "start_time": "2020-09-17T05:22:34.922177Z"
    }
   },
   "outputs": [],
   "source": []
  },
  {
   "cell_type": "code",
   "execution_count": null,
   "metadata": {},
   "outputs": [],
   "source": []
  }
 ],
 "metadata": {
  "hide_input": false,
  "kernelspec": {
   "display_name": "Python 3",
   "language": "python",
   "name": "python3"
  },
  "language_info": {
   "codemirror_mode": {
    "name": "ipython",
    "version": 3
   },
   "file_extension": ".py",
   "mimetype": "text/x-python",
   "name": "python",
   "nbconvert_exporter": "python",
   "pygments_lexer": "ipython3",
   "version": "3.8.3"
  },
  "toc": {
   "base_numbering": 1,
   "nav_menu": {},
   "number_sections": true,
   "sideBar": true,
   "skip_h1_title": false,
   "title_cell": "Table of Contents",
   "title_sidebar": "Contents",
   "toc_cell": false,
   "toc_position": {},
   "toc_section_display": true,
   "toc_window_display": false
  },
  "varInspector": {
   "cols": {
    "lenName": 16,
    "lenType": 16,
    "lenVar": 40
   },
   "kernels_config": {
    "python": {
     "delete_cmd_postfix": "",
     "delete_cmd_prefix": "del ",
     "library": "var_list.py",
     "varRefreshCmd": "print(var_dic_list())"
    },
    "r": {
     "delete_cmd_postfix": ") ",
     "delete_cmd_prefix": "rm(",
     "library": "var_list.r",
     "varRefreshCmd": "cat(var_dic_list()) "
    }
   },
   "types_to_exclude": [
    "module",
    "function",
    "builtin_function_or_method",
    "instance",
    "_Feature"
   ],
   "window_display": false
  }
 },
 "nbformat": 4,
 "nbformat_minor": 4
}
