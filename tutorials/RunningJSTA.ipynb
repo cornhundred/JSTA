{
 "cells": [
  {
   "cell_type": "markdown",
   "metadata": {},
   "source": [
    "Note: This is a toy example on a small simulated data set. These parameters were optimized for real and larger simulated datasets. "
   ]
  },
  {
   "cell_type": "code",
   "execution_count": null,
   "metadata": {
    "ExecuteTime": {
     "end_time": "2020-09-17T04:27:41.464131Z",
     "start_time": "2020-09-17T04:27:41.460813Z"
    }
   },
   "outputs": [],
   "source": [
    "# Set number of threads to use\n",
    "import os\n",
    "nthreads = 8\n",
    "os.environ[\"MKL_NUM_THREADS\"] = str(nthreads)\n",
    "os.environ[\"NUMEXPR_NUM_THREADS\"] = str(nthreads)\n",
    "os.environ[\"OMP_NUM_THREADS\"] = str(nthreads)"
   ]
  },
  {
   "cell_type": "code",
   "execution_count": null,
   "metadata": {
    "ExecuteTime": {
     "end_time": "2020-09-17T04:27:41.625156Z",
     "start_time": "2020-09-17T04:27:41.623139Z"
    }
   },
   "outputs": [],
   "source": [
    "import sys"
   ]
  },
  {
   "cell_type": "code",
   "execution_count": null,
   "metadata": {
    "ExecuteTime": {
     "end_time": "2020-09-17T04:27:42.075511Z",
     "start_time": "2020-09-17T04:27:42.073210Z"
    }
   },
   "outputs": [],
   "source": [
    "sys.path.insert(1, '../CoreFunctions/')"
   ]
  },
  {
   "cell_type": "code",
   "execution_count": null,
   "metadata": {
    "ExecuteTime": {
     "end_time": "2020-09-17T04:27:43.497696Z",
     "start_time": "2020-09-17T04:27:42.218111Z"
    }
   },
   "outputs": [],
   "source": [
    "from JSTA import *"
   ]
  },
  {
   "cell_type": "markdown",
   "metadata": {},
   "source": [
    "# Load the simulated data\n",
    "spots: spatial transcriptomics data\n",
    "nuclei: coordinates of the nuclei pixels, with id numbers"
   ]
  },
  {
   "cell_type": "code",
   "execution_count": 1,
   "metadata": {
    "ExecuteTime": {
     "end_time": "2020-09-17T16:16:09.940390Z",
     "start_time": "2020-09-17T16:16:09.865478Z"
    }
   },
   "outputs": [
    {
     "ename": "NameError",
     "evalue": "name 'pd' is not defined",
     "output_type": "error",
     "traceback": [
      "\u001b[0;31m---------------------------------------------------------------------------\u001b[0m",
      "\u001b[0;31mNameError\u001b[0m                                 Traceback (most recent call last)",
      "\u001b[0;32m<ipython-input-1-27ac6bb704b3>\u001b[0m in \u001b[0;36m<module>\u001b[0;34m\u001b[0m\n\u001b[1;32m      3\u001b[0m \u001b[0;32mwith\u001b[0m \u001b[0mopen\u001b[0m\u001b[0;34m(\u001b[0m\u001b[0mpref\u001b[0m\u001b[0;34m+\u001b[0m\u001b[0;34m'spots.npy'\u001b[0m\u001b[0;34m,\u001b[0m \u001b[0;34m'rb'\u001b[0m\u001b[0;34m)\u001b[0m \u001b[0;32mas\u001b[0m \u001b[0mf\u001b[0m\u001b[0;34m:\u001b[0m\u001b[0;34m\u001b[0m\u001b[0;34m\u001b[0m\u001b[0m\n\u001b[1;32m      4\u001b[0m     \u001b[0mspots\u001b[0m \u001b[0;34m=\u001b[0m \u001b[0mnp\u001b[0m\u001b[0;34m.\u001b[0m\u001b[0mload\u001b[0m\u001b[0;34m(\u001b[0m\u001b[0mf\u001b[0m\u001b[0;34m,\u001b[0m \u001b[0mallow_pickle\u001b[0m\u001b[0;34m=\u001b[0m\u001b[0;32mTrue\u001b[0m\u001b[0;34m)\u001b[0m\u001b[0;34m\u001b[0m\u001b[0;34m\u001b[0m\u001b[0m\n\u001b[0;32m----> 5\u001b[0;31m     \u001b[0mspots\u001b[0m \u001b[0;34m=\u001b[0m \u001b[0mpd\u001b[0m\u001b[0;34m.\u001b[0m\u001b[0mDataFrame\u001b[0m\u001b[0;34m(\u001b[0m\u001b[0mspots\u001b[0m\u001b[0;34m)\u001b[0m\u001b[0;34m\u001b[0m\u001b[0;34m\u001b[0m\u001b[0m\n\u001b[0m\u001b[1;32m      6\u001b[0m     \u001b[0mspots\u001b[0m\u001b[0;34m.\u001b[0m\u001b[0mcolumns\u001b[0m \u001b[0;34m=\u001b[0m \u001b[0;34m[\u001b[0m\u001b[0;34m'x'\u001b[0m\u001b[0;34m,\u001b[0m \u001b[0;34m'y'\u001b[0m\u001b[0;34m,\u001b[0m \u001b[0;34m'z'\u001b[0m\u001b[0;34m,\u001b[0m \u001b[0;34m'gene'\u001b[0m\u001b[0;34m]\u001b[0m\u001b[0;34m\u001b[0m\u001b[0;34m\u001b[0m\u001b[0m\n\u001b[1;32m      7\u001b[0m     \u001b[0mspots\u001b[0m \u001b[0;34m=\u001b[0m \u001b[0mspots\u001b[0m\u001b[0;34m.\u001b[0m\u001b[0mloc\u001b[0m\u001b[0;34m[\u001b[0m\u001b[0;34m:\u001b[0m\u001b[0;34m,\u001b[0m \u001b[0;34m[\u001b[0m\u001b[0;34m'gene'\u001b[0m\u001b[0;34m,\u001b[0m \u001b[0;34m'x'\u001b[0m\u001b[0;34m,\u001b[0m \u001b[0;34m'y'\u001b[0m\u001b[0;34m,\u001b[0m \u001b[0;34m'z'\u001b[0m\u001b[0;34m]\u001b[0m\u001b[0;34m]\u001b[0m\u001b[0;34m\u001b[0m\u001b[0;34m\u001b[0m\u001b[0m\n",
      "\u001b[0;31mNameError\u001b[0m: name 'pd' is not defined"
     ]
    }
   ],
   "source": [
    "pref = '../simulated_example/'\n",
    "# load spots\n",
    "with open(pref+'spots.npy', 'rb') as f:\n",
    "    spots = np.load(f, allow_pickle=True)\n",
    "    spots = pd.DataFrame(spots)\n",
    "    spots.columns = ['x', 'y', 'z', 'gene']\n",
    "    spots = spots.loc[:, ['gene', 'x', 'y', 'z']]\n",
    "# load nuclei\n",
    "with open(pref+'nuclei.npy', 'rb') as f:\n",
    "    nuclei = np.load(f, allow_pickle=True)\n",
    "    nuclei = pd.DataFrame(nuclei)\n",
    "    nuclei.columns = ['id', 'x', 'y', 'z']\n"
   ]
  },
  {
   "cell_type": "markdown",
   "metadata": {},
   "source": [
    "Ensure the nuclei start at 0 and end at the number of nuclei - 1  \n",
    "Some nuclei get filtered out during simulation, and the ids are not updated.  \n",
    "This may also be the case during preprocessing and nuclei segmentation in real data  "
   ]
  },
  {
   "cell_type": "code",
   "execution_count": null,
   "metadata": {
    "ExecuteTime": {
     "end_time": "2020-09-17T04:27:47.213804Z",
     "start_time": "2020-09-17T04:27:47.092190Z"
    }
   },
   "outputs": [],
   "source": [
    "for i, nuc_id in enumerate(np.unique(nuclei.id)):\n",
    "    nuclei.loc[nuclei.id == nuc_id, 'id'] = i"
   ]
  },
  {
   "cell_type": "markdown",
   "metadata": {},
   "source": [
    "# Read in reference datasets"
   ]
  },
  {
   "cell_type": "code",
   "execution_count": null,
   "metadata": {
    "ExecuteTime": {
     "end_time": "2020-09-17T04:27:47.614576Z",
     "start_time": "2020-09-17T04:27:47.497089Z"
    }
   },
   "outputs": [],
   "source": [
    "pref = '../ref_data/'\n",
    "sc_ref = pd.read_csv(pref+'sc_ref.csv.gz', index_col=0)\n",
    "sc_celltypes = pd.read_csv(pref+'celltypes.txt.gz',\n",
    "                          header=None).to_numpy().ravel()"
   ]
  },
  {
   "cell_type": "markdown",
   "metadata": {},
   "source": [
    "only keep genes in both reference and spatial transcriptomics dataset"
   ]
  },
  {
   "cell_type": "code",
   "execution_count": null,
   "metadata": {
    "ExecuteTime": {
     "end_time": "2020-09-17T04:27:47.968255Z",
     "start_time": "2020-09-17T04:27:47.902651Z"
    }
   },
   "outputs": [],
   "source": [
    "all_genes = np.intersect1d(sc_ref.columns, np.unique(spots.gene))"
   ]
  },
  {
   "cell_type": "code",
   "execution_count": null,
   "metadata": {
    "ExecuteTime": {
     "end_time": "2020-09-17T04:27:48.354923Z",
     "start_time": "2020-09-17T04:27:48.210596Z"
    }
   },
   "outputs": [],
   "source": [
    "#remove extra genes from spots and from reference\n",
    "sc_ref = sc_ref.loc[:,all_genes]\n",
    "spots = spots.loc[np.isin(spots.gene,all_genes),:]"
   ]
  },
  {
   "cell_type": "code",
   "execution_count": null,
   "metadata": {
    "ExecuteTime": {
     "end_time": "2020-09-17T04:27:48.654491Z",
     "start_time": "2020-09-17T04:27:48.595998Z"
    }
   },
   "outputs": [],
   "source": [
    "# cell type map can be used later to go back to\n",
    "# cell type names\n",
    "cell_type_map = {}\n",
    "for i, c in enumerate(np.unique(sc_celltypes)):\n",
    "    cell_type_map[i] = c\n",
    "    \n",
    "    # change cell types to int for training\n",
    "    sc_celltypes[sc_celltypes == c] = i\n",
    "\n",
    "# required for tensorflow formatting\n",
    "sc_celltypes = np.array(sc_celltypes, dtype=int)"
   ]
  },
  {
   "cell_type": "markdown",
   "metadata": {},
   "source": [
    "# Run density estimation:\n",
    "We use a KNN based density estimation to get the local density at each pixel:    \n",
    "  \n",
    "$$\\frac{\\textit{num_spots_around}}{\\frac{4}{3}{\\pi}r^{3}}$$  \n",
    "  \n",
    "pixel_length: edge length of each pixel in microns. (Lower is higher resolution)  \n",
    "num_spots_around: Number of transcripts on which to find the volume"
   ]
  },
  {
   "cell_type": "code",
   "execution_count": null,
   "metadata": {
    "ExecuteTime": {
     "end_time": "2020-09-17T04:28:28.107770Z",
     "start_time": "2020-09-17T04:27:48.895276Z"
    }
   },
   "outputs": [],
   "source": [
    "num_spots_around = 5\n",
    "pixel_length = 1\n",
    "pixels = fast_de_all_spots(spots, pixel_length, num_spots_around)\n",
    "locations = get_locations(spots, pixel_length)"
   ]
  },
  {
   "cell_type": "markdown",
   "metadata": {},
   "source": [
    "Bin the count data into pixels"
   ]
  },
  {
   "cell_type": "code",
   "execution_count": null,
   "metadata": {
    "ExecuteTime": {
     "end_time": "2020-09-17T04:28:32.054270Z",
     "start_time": "2020-09-17T04:28:28.555758Z"
    }
   },
   "outputs": [],
   "source": [
    "pix_true = get_real_pixels(spots, pixel_length, all_genes, pixels.shape)"
   ]
  },
  {
   "cell_type": "code",
   "execution_count": null,
   "metadata": {
    "ExecuteTime": {
     "end_time": "2020-09-17T04:28:32.732206Z",
     "start_time": "2020-09-17T04:28:32.674048Z"
    }
   },
   "outputs": [],
   "source": [
    "# Plot the expression intensity\n",
    "plt.imshow(np.log2(np.sum(pixels, axis=(2, 3))+1),\n",
    "           cmap='inferno')\n",
    "plt.axis('off')"
   ]
  },
  {
   "cell_type": "markdown",
   "metadata": {},
   "source": [
    "# Initialize segmentation with watershed on distance transform\n",
    "max_dist_to_nuclei: maximum distance from the edge of the nucleus ($\\mu$) for a pixel to be assigned to a specific nucleus. We start conservative with a maximum radius of 3"
   ]
  },
  {
   "cell_type": "code",
   "execution_count": null,
   "metadata": {
    "ExecuteTime": {
     "end_time": "2020-09-17T04:28:33.808990Z",
     "start_time": "2020-09-17T04:28:33.293383Z"
    }
   },
   "outputs": [],
   "source": [
    "max_dist_to_nuclei = 3\n",
    "cell_assignment = classify_pixels_to_nuclei(\n",
    "    locations, nuclei, max_dist_to_nuclei)"
   ]
  },
  {
   "cell_type": "code",
   "execution_count": null,
   "metadata": {
    "ExecuteTime": {
     "end_time": "2020-09-17T04:28:34.440878Z",
     "start_time": "2020-09-17T04:28:34.349237Z"
    }
   },
   "outputs": [],
   "source": [
    "# note colors are randomized so they will change everytime\n",
    "plot_segmentation(cell_assignment,\n",
    "                  'nipy_spectral')"
   ]
  },
  {
   "cell_type": "markdown",
   "metadata": {},
   "source": [
    "# Get the initialized counts matrix"
   ]
  },
  {
   "cell_type": "code",
   "execution_count": null,
   "metadata": {
    "ExecuteTime": {
     "end_time": "2020-09-17T04:28:35.180060Z",
     "start_time": "2020-09-17T04:28:34.989752Z"
    }
   },
   "outputs": [],
   "source": [
    "cells_mat = get_matrix_of_cells(pix_true, cell_assignment, nuclei)"
   ]
  },
  {
   "cell_type": "markdown",
   "metadata": {},
   "source": [
    "# Train cell type classifier"
   ]
  },
  {
   "cell_type": "code",
   "execution_count": null,
   "metadata": {
    "ExecuteTime": {
     "end_time": "2020-09-17T04:29:18.290112Z",
     "start_time": "2020-09-17T04:28:35.910943Z"
    }
   },
   "outputs": [],
   "source": [
    "clf_cell = create_celltype_classifier(sc_ref, sc_celltypes,\n",
    "                                      nlayers=2, l1_reg=5e-3,\n",
    "                                      epochs=20, lrs=[5e-3, 5e-4],\n",
    "                                      test_size=0.25)"
   ]
  },
  {
   "cell_type": "code",
   "execution_count": null,
   "metadata": {
    "ExecuteTime": {
     "end_time": "2020-09-17T04:29:32.215800Z",
     "start_time": "2020-09-17T04:29:19.109495Z"
    }
   },
   "outputs": [],
   "source": [
    "tic = time()\n",
    "cell_assign, counts_mat, cell_types = reclassify_squares(pixels, pix_true,\n",
    "                                                         cells_mat, nuclei,\n",
    "                                                         cell_assignment,\n",
    "                                                         sc_ref, sc_celltypes,\n",
    "                                                         all_genes, locations,\n",
    "                                                         clf_cell,\n",
    "                                                         pct_train=0.1, border_other_threshold=5,\n",
    "                                                         border_same_threshold=2,\n",
    "                                                         outer_max=3, inner_max=5,\n",
    "                                                         most_inner_max=5, dist_threshold=2, dist_scaling=5,\n",
    "                                                         anneal_param=0.05, flip_thresh=0.2,\n",
    "                                                         nlayer=3, first_epochs=25, second_epochs=15,\n",
    "                                                         lrs=[1e-3, 1e-4], l1_reg=1e-3)\n",
    "\n",
    "toc = time()\n",
    "print('time for segmentation:', toc-tic)"
   ]
  },
  {
   "cell_type": "code",
   "execution_count": null,
   "metadata": {
    "ExecuteTime": {
     "end_time": "2020-09-17T04:29:33.196337Z",
     "start_time": "2020-09-17T04:29:33.102830Z"
    }
   },
   "outputs": [],
   "source": [
    "plot_segmentation(cell_assign)"
   ]
  },
  {
   "cell_type": "markdown",
   "metadata": {},
   "source": [
    "# Map cell types back to original names"
   ]
  },
  {
   "cell_type": "code",
   "execution_count": null,
   "metadata": {
    "ExecuteTime": {
     "end_time": "2020-09-17T04:29:33.971458Z",
     "start_time": "2020-09-17T04:29:33.969627Z"
    }
   },
   "outputs": [],
   "source": [
    "real_celltypes = []\n",
    "for i in cell_types:\n",
    "    real_celltypes.append(cell_type_map[i])\n",
    "real_celltypes = np.array(real_celltypes)"
   ]
  },
  {
   "cell_type": "code",
   "execution_count": null,
   "metadata": {},
   "outputs": [],
   "source": [
    " "
   ]
  }
 ],
 "metadata": {
  "hide_input": false,
  "kernelspec": {
   "display_name": "Python 3",
   "language": "python",
   "name": "python3"
  },
  "language_info": {
   "codemirror_mode": {
    "name": "ipython",
    "version": 3
   },
   "file_extension": ".py",
   "mimetype": "text/x-python",
   "name": "python",
   "nbconvert_exporter": "python",
   "pygments_lexer": "ipython3",
   "version": "3.8.3"
  },
  "toc": {
   "base_numbering": 1,
   "nav_menu": {},
   "number_sections": true,
   "sideBar": true,
   "skip_h1_title": false,
   "title_cell": "Table of Contents",
   "title_sidebar": "Contents",
   "toc_cell": false,
   "toc_position": {},
   "toc_section_display": true,
   "toc_window_display": false
  },
  "varInspector": {
   "cols": {
    "lenName": 16,
    "lenType": 16,
    "lenVar": 40
   },
   "kernels_config": {
    "python": {
     "delete_cmd_postfix": "",
     "delete_cmd_prefix": "del ",
     "library": "var_list.py",
     "varRefreshCmd": "print(var_dic_list())"
    },
    "r": {
     "delete_cmd_postfix": ") ",
     "delete_cmd_prefix": "rm(",
     "library": "var_list.r",
     "varRefreshCmd": "cat(var_dic_list()) "
    }
   },
   "types_to_exclude": [
    "module",
    "function",
    "builtin_function_or_method",
    "instance",
    "_Feature"
   ],
   "window_display": false
  }
 },
 "nbformat": 4,
 "nbformat_minor": 4
}
