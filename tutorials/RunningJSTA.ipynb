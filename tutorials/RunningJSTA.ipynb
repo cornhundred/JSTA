{
 "cells": [
  {
   "cell_type": "code",
   "execution_count": 1,
   "metadata": {
    "ExecuteTime": {
     "end_time": "2020-09-17T02:13:41.485798Z",
     "start_time": "2020-09-17T02:13:41.482593Z"
    }
   },
   "outputs": [],
   "source": [
    "# Set number of threads to use\n",
    "import os\n",
    "nthreads = 24\n",
    "os.environ[\"MKL_NUM_THREADS\"] = str(nthreads)\n",
    "os.environ[\"NUMEXPR_NUM_THREADS\"] = str(nthreads)\n",
    "os.environ[\"OMP_NUM_THREADS\"] = str(nthreads)"
   ]
  },
  {
   "cell_type": "code",
   "execution_count": 2,
   "metadata": {
    "ExecuteTime": {
     "end_time": "2020-09-17T02:13:42.108301Z",
     "start_time": "2020-09-17T02:13:42.105998Z"
    }
   },
   "outputs": [],
   "source": [
    "import sys"
   ]
  },
  {
   "cell_type": "code",
   "execution_count": 3,
   "metadata": {
    "ExecuteTime": {
     "end_time": "2020-09-17T02:13:42.303968Z",
     "start_time": "2020-09-17T02:13:42.301609Z"
    }
   },
   "outputs": [],
   "source": [
    "sys.path.insert(1,'../CoreFunctions/')"
   ]
  },
  {
   "cell_type": "code",
   "execution_count": 4,
   "metadata": {
    "ExecuteTime": {
     "end_time": "2020-09-17T02:13:43.688749Z",
     "start_time": "2020-09-17T02:13:42.415159Z"
    }
   },
   "outputs": [],
   "source": [
    "from JSTA import *"
   ]
  },
  {
   "cell_type": "markdown",
   "metadata": {},
   "source": [
    "# Load the simulated data\n",
    "spots: spatial transcriptomics data\n",
    "nuclei: coordinates of the nuclei pixels, with id numbers"
   ]
  },
  {
   "cell_type": "code",
   "execution_count": 5,
   "metadata": {
    "ExecuteTime": {
     "end_time": "2020-09-17T02:13:43.773094Z",
     "start_time": "2020-09-17T02:13:43.713343Z"
    }
   },
   "outputs": [],
   "source": [
    "pref = '../simulated_example/'\n",
    "# load spots\n",
    "with open(pref+'spots.npy', 'rb') as f:\n",
    "    spots = np.load(f, allow_pickle=True)\n",
    "    spots = pd.DataFrame(spots)\n",
    "    spots.columns = ['x', 'y', 'z', 'gene']\n",
    "    spots = spots.loc[:, ['gene', 'x', 'y', 'z']]\n",
    "# load nuclei\n",
    "with open(pref+'nuclei.npy', 'rb') as f:\n",
    "    nuclei = np.load(f, allow_pickle=True)\n",
    "    nuclei = pd.DataFrame(nuclei)\n",
    "    nuclei.columns = ['id', 'x', 'y', 'z']\n"
   ]
  },
  {
   "cell_type": "markdown",
   "metadata": {},
   "source": [
    "Ensure the nuclei start at 0 and end at the number of nuclei - 1  \n",
    "Some nuclei get filtered out during simulation, and the ids are not updated.  \n",
    "This may also be the case during preprocessing and nuclei segmentation in real data  "
   ]
  },
  {
   "cell_type": "code",
   "execution_count": 6,
   "metadata": {
    "ExecuteTime": {
     "end_time": "2020-09-17T02:13:43.941246Z",
     "start_time": "2020-09-17T02:13:43.822124Z"
    }
   },
   "outputs": [],
   "source": [
    "for i, nuc_id in enumerate(np.unique(nuclei.id)):\n",
    "    nuclei.loc[nuclei.id == nuc_id,'id'] = i"
   ]
  },
  {
   "cell_type": "markdown",
   "metadata": {
    "ExecuteTime": {
     "end_time": "2020-09-17T01:33:50.021350Z",
     "start_time": "2020-09-17T01:33:50.010004Z"
    }
   },
   "source": [
    "Get the unique genes from the dataset"
   ]
  },
  {
   "cell_type": "code",
   "execution_count": 7,
   "metadata": {
    "ExecuteTime": {
     "end_time": "2020-09-17T02:13:44.051604Z",
     "start_time": "2020-09-17T02:13:43.989129Z"
    }
   },
   "outputs": [],
   "source": [
    "all_genes = np.unique(spots.gene)"
   ]
  },
  {
   "cell_type": "markdown",
   "metadata": {},
   "source": [
    "# Run density estimation:\n",
    "We use a KNN based density estimation to get the local density at each pixel:    \n",
    "  \n",
    "$$\\frac{\\textit{num_spots_around}}{\\frac{4}{3}{\\pi}r^{3}}$$  \n",
    "  \n",
    "pixel_length: edge length of each pixel in microns. (Lower is higher resolution)  \n",
    "num_spots_around: Number of transcripts on which to find the volume"
   ]
  },
  {
   "cell_type": "code",
   "execution_count": 8,
   "metadata": {
    "ExecuteTime": {
     "end_time": "2020-09-17T02:14:22.646178Z",
     "start_time": "2020-09-17T02:13:44.861929Z"
    }
   },
   "outputs": [
    {
     "name": "stdout",
     "output_type": "stream",
     "text": [
      "Abcb1a 0\n",
      "Adamts9 1\n",
      "Aqp4 2\n",
      "Arap2 3\n",
      "Cacna2d1 4\n",
      "Cadps2 5\n",
      "Calb1 6\n",
      "Cdh24 7\n",
      "Chrm2 8\n",
      "Clic6 9\n",
      "Cntn5 10\n",
      "Cntnap5a 11\n",
      "Copg2 12\n",
      "Cspg5 13\n",
      "Cxcl14 14\n",
      "Dlx6os1 15\n",
      "Dmkn 16\n",
      "Etv5 17\n",
      "Fezf2 18\n",
      "Fibcd1 19\n",
      "Filip1l 20\n",
      "Flt1 21\n",
      "Fut9 22\n",
      "Gad1 23\n",
      "Gad2 24\n",
      "Gfra1 25\n",
      "Gja1 26\n",
      "Gjc3 27\n",
      "Gpd1 28\n",
      "Gpr17 29\n",
      "Grik1 30\n",
      "Grm2 31\n",
      "Htr2c 32\n",
      "Igfbp4 33\n",
      "Igfbp5 34\n",
      "Kcnc4 35\n",
      "Kctd12 36\n",
      "Kl 37\n",
      "Lhx1 38\n",
      "Lmod1 39\n",
      "Lrrtm3 40\n",
      "Lypd1 41\n",
      "Mag 42\n",
      "Map3k15 43\n",
      "Mcph1 44\n",
      "Mlc1 45\n",
      "Mog 46\n",
      "Ndnf 47\n",
      "Necab1 48\n",
      "Nov 49\n",
      "Ntng1 50\n",
      "Opalin 51\n",
      "Pcdh17 52\n",
      "Pdgfra 53\n",
      "Pnoc 54\n",
      "Prox1 55\n",
      "Rab36 56\n",
      "Rassf10 57\n",
      "Reln 58\n",
      "Rgs5 59\n",
      "Rnf207 60\n",
      "Rspo3 61\n",
      "Samd5 62\n",
      "Selplg 63\n",
      "Sema5a 64\n",
      "Serpine2 65\n",
      "Sf3b5 66\n",
      "Slc15a3 67\n",
      "Slc17a6 68\n",
      "Slc17a8 69\n",
      "Spry2 70\n",
      "St3gal1 71\n",
      "Synpr 72\n",
      "Th 73\n",
      "Tle4 74\n",
      "Tll2 75\n",
      "Tnfaip8l3 76\n",
      "Tox 77\n",
      "Ttyh2 78\n",
      "Twistnb 79\n",
      "Vwa5a 80\n",
      "Vwc2l 81\n"
     ]
    }
   ],
   "source": [
    "num_spots_around = 5\n",
    "pixel_length = 1\n",
    "pixels = fast_de_all_spots(spots, pixel_length, num_spots_around)\n",
    "locations = get_locations(spots, pixel_length)"
   ]
  },
  {
   "cell_type": "markdown",
   "metadata": {},
   "source": [
    "Bin the count data into pixels"
   ]
  },
  {
   "cell_type": "code",
   "execution_count": 9,
   "metadata": {
    "ExecuteTime": {
     "end_time": "2020-09-17T02:14:26.155083Z",
     "start_time": "2020-09-17T02:14:22.774464Z"
    }
   },
   "outputs": [
    {
     "name": "stdout",
     "output_type": "stream",
     "text": [
      "Abcb1a\n",
      "Adamts9\n",
      "Aqp4\n",
      "Arap2\n",
      "Cacna2d1\n",
      "Cadps2\n",
      "Calb1\n",
      "Cdh24\n",
      "Chrm2\n",
      "Clic6\n",
      "Cntn5\n",
      "Cntnap5a\n",
      "Copg2\n",
      "Cspg5\n",
      "Cxcl14\n",
      "Dlx6os1\n",
      "Dmkn\n",
      "Etv5\n",
      "Fezf2\n",
      "Fibcd1\n",
      "Filip1l\n",
      "Flt1\n",
      "Fut9\n",
      "Gad1\n",
      "Gad2\n",
      "Gfra1\n",
      "Gja1\n",
      "Gjc3\n",
      "Gpd1\n",
      "Gpr17\n",
      "Grik1\n",
      "Grm2\n",
      "Htr2c\n",
      "Igfbp4\n",
      "Igfbp5\n",
      "Kcnc4\n",
      "Kctd12\n",
      "Kl\n",
      "Lhx1\n",
      "Lmod1\n",
      "Lrrtm3\n",
      "Lypd1\n",
      "Mag\n",
      "Map3k15\n",
      "Mcph1\n",
      "Mlc1\n",
      "Mog\n",
      "Ndnf\n",
      "Necab1\n",
      "Nov\n",
      "Ntng1\n",
      "Opalin\n",
      "Pcdh17\n",
      "Pdgfra\n",
      "Pnoc\n",
      "Prox1\n",
      "Rab36\n",
      "Rassf10\n",
      "Reln\n",
      "Rgs5\n",
      "Rnf207\n",
      "Rspo3\n",
      "Samd5\n",
      "Selplg\n",
      "Sema5a\n",
      "Serpine2\n",
      "Sf3b5\n",
      "Slc15a3\n",
      "Slc17a6\n",
      "Slc17a8\n",
      "Spry2\n",
      "St3gal1\n",
      "Synpr\n",
      "Th\n",
      "Tle4\n",
      "Tll2\n",
      "Tnfaip8l3\n",
      "Tox\n",
      "Ttyh2\n",
      "Twistnb\n",
      "Vwa5a\n",
      "Vwc2l\n"
     ]
    }
   ],
   "source": [
    "pix_true = get_real_pixels(spots, pixel_length, all_genes, pixels.shape)"
   ]
  },
  {
   "cell_type": "code",
   "execution_count": 10,
   "metadata": {
    "ExecuteTime": {
     "end_time": "2020-09-17T02:14:26.385663Z",
     "start_time": "2020-09-17T02:14:26.329231Z"
    }
   },
   "outputs": [
    {
     "data": {
      "text/plain": [
       "(-0.5, 99.5, 99.5, -0.5)"
      ]
     },
     "execution_count": 10,
     "metadata": {},
     "output_type": "execute_result"
    },
    {
     "data": {
      "image/png": "[encoded data removed]",
      "text/plain": [
       "<Figure size 432x288 with 1 Axes>"
      ]
     },
     "metadata": {
      "needs_background": "light"
     },
     "output_type": "display_data"
    }
   ],
   "source": [
    "#Plot the expression intensity \n",
    "plt.imshow(np.log2(np.sum(pixels,axis=(2,3))+1),\n",
    "          cmap='inferno')\n",
    "plt.axis('off')"
   ]
  },
  {
   "cell_type": "markdown",
   "metadata": {},
   "source": [
    "# Initialize segmentation with watershed on distance transform\n",
    "max_dist_to_nuclei: maximum distance from the edge of the nucleus ($\\mu$) for a pixel to be assigned to a specific nucleus. We start conservative with a maximum radius of 3"
   ]
  },
  {
   "cell_type": "code",
   "execution_count": 11,
   "metadata": {
    "ExecuteTime": {
     "end_time": "2020-09-17T02:14:27.057164Z",
     "start_time": "2020-09-17T02:14:26.556292Z"
    }
   },
   "outputs": [
    {
     "name": "stderr",
     "output_type": "stream",
     "text": [
      "/home/russell/miniconda3/envs/tf/lib/python3.8/site-packages/sklearn/utils/validation.py:68: FutureWarning: Pass n_neighbors=1 as keyword args. From version 0.25 passing these as positional arguments will result in an error\n",
      "  warnings.warn(\"Pass {} as keyword args. From version 0.25 \"\n"
     ]
    }
   ],
   "source": [
    "max_dist_to_nuclei = 3\n",
    "cell_assignment = classify_pixels_to_nuclei(locations, nuclei, max_dist_to_nuclei)"
   ]
  },
  {
   "cell_type": "code",
   "execution_count": 12,
   "metadata": {
    "ExecuteTime": {
     "end_time": "2020-09-17T02:14:27.390307Z",
     "start_time": "2020-09-17T02:14:27.300089Z"
    }
   },
   "outputs": [
    {
     "data": {
      "image/png": "[encoded data removed]",
      "text/plain": [
       "<Figure size 432x288 with 1 Axes>"
      ]
     },
     "metadata": {
      "needs_background": "light"
     },
     "output_type": "display_data"
    }
   ],
   "source": [
    "plot_segmentation(cell_assignment,\n",
    "                 'nipy_spectral')"
   ]
  },
  {
   "cell_type": "markdown",
   "metadata": {},
   "source": [
    "Count the number of surroundings around each pixel that are the same and different.  \n",
    "These are used later in the reclassification step"
   ]
  },
  {
   "cell_type": "code",
   "execution_count": 13,
   "metadata": {
    "ExecuteTime": {
     "end_time": "2020-09-17T02:14:49.444365Z",
     "start_time": "2020-09-17T02:14:49.374365Z"
    }
   },
   "outputs": [],
   "source": [
    "surr_counts, same_count = get_number_similar_surroundings(cell_assignment)"
   ]
  },
  {
   "cell_type": "code",
   "execution_count": null,
   "metadata": {},
   "outputs": [],
   "source": [
    "pref = ''"
   ]
  }
 ],
 "metadata": {
  "hide_input": false,
  "kernelspec": {
   "display_name": "Python 3",
   "language": "python",
   "name": "python3"
  },
  "language_info": {
   "codemirror_mode": {
    "name": "ipython",
    "version": 3
   },
   "file_extension": ".py",
   "mimetype": "text/x-python",
   "name": "python",
   "nbconvert_exporter": "python",
   "pygments_lexer": "ipython3",
   "version": "3.8.3"
  },
  "toc": {
   "base_numbering": 1,
   "nav_menu": {},
   "number_sections": true,
   "sideBar": true,
   "skip_h1_title": false,
   "title_cell": "Table of Contents",
   "title_sidebar": "Contents",
   "toc_cell": false,
   "toc_position": {},
   "toc_section_display": true,
   "toc_window_display": false
  },
  "varInspector": {
   "cols": {
    "lenName": 16,
    "lenType": 16,
    "lenVar": 40
   },
   "kernels_config": {
    "python": {
     "delete_cmd_postfix": "",
     "delete_cmd_prefix": "del ",
     "library": "var_list.py",
     "varRefreshCmd": "print(var_dic_list())"
    },
    "r": {
     "delete_cmd_postfix": ") ",
     "delete_cmd_prefix": "rm(",
     "library": "var_list.r",
     "varRefreshCmd": "cat(var_dic_list()) "
    }
   },
   "types_to_exclude": [
    "module",
    "function",
    "builtin_function_or_method",
    "instance",
    "_Feature"
   ],
   "window_display": false
  }
 },
 "nbformat": 4,
 "nbformat_minor": 4
}
